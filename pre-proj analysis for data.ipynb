{
 "cells": [
  {
   "cell_type": "code",
   "execution_count": 2,
   "metadata": {},
   "outputs": [],
   "source": [
    "import json\n",
    "import pprint\n"
   ]
  },
  {
   "cell_type": "code",
   "execution_count": 3,
   "metadata": {},
   "outputs": [],
   "source": [
    "with open(\"training.json\") as fin:\n",
    "    j = json.load(fin)"
   ]
  },
  {
   "cell_type": "code",
   "execution_count": 4,
   "metadata": {},
   "outputs": [
    {
     "name": "stdout",
     "output_type": "stream",
     "text": [
      "100814\n"
     ]
    }
   ],
   "source": [
    "i = 0\n",
    "\n",
    "for passage in j['data']:\n",
    "    title = passage['title']\n",
    "    paragraphs = passage['paragraphs']\n",
    "    for paragraph in paragraphs:\n",
    "        context = paragraph['context']\n",
    "        qas = paragraph['qas']\n",
    "        for qa in qas:\n",
    "            question = qa['question']\n",
    "            i += 1\n",
    "\n",
    "print(i)"
   ]
  },
  {
   "cell_type": "code",
   "execution_count": 8,
   "metadata": {},
   "outputs": [
    {
     "name": "stdout",
     "output_type": "stream",
     "text": [
      "dict_keys(['data'])\n",
      "<class 'list'>\n",
      "dict_keys(['title', 'paragraphs'])\n",
      "dict_keys(['context', 'qas'])\n",
      "dict_keys(['question', 'id', 'answers', 'is_impossible'])\n",
      "{'text': '2003', 'answer_start': 526}\n"
     ]
    }
   ],
   "source": [
    "print(j.keys())\n",
    "print(type(j['data']))\n",
    "item0 = j['data'][0]\n",
    "print(item0.keys())\n",
    "p0 = item0['paragraphs'][0]\n",
    "print(p0.keys())\n",
    "q0 = p0['qas'][0]\n",
    "print(q0.keys())\n",
    "a0 = q0['answers'][0]\n",
    "print(a0) # 不是plausible 也有answer_start\n"
   ]
  },
  {
   "cell_type": "markdown",
   "metadata": {},
   "source": [
    "# data log for proj 4"
   ]
  },
  {
   "cell_type": "markdown",
   "metadata": {},
   "source": [
    "## `training.json` and `development.json`"
   ]
  },
  {
   "cell_type": "markdown",
   "metadata": {},
   "source": [
    "```python\n",
    "whole_file = {'data': [item_0, item_1, ..., item_N]}\n",
    "```\n",
    "\n",
    "```python\n",
    "item_i = {\n",
    "  'title': str,\n",
    "  'paragraphs': [p_0, p_1, ..., p_N],\n",
    "}\n",
    "```\n",
    "\n",
    "```python\n",
    "p_i = {\n",
    "  'context': str,\n",
    "  'qas': [q_0, q_1, ..., q_N],\n",
    "}\n",
    "```\n",
    "\n",
    "```python\n",
    "q_i = {\n",
    "  'question': str,\n",
    "  'id': str,\n",
    "  'answers': [a_0, a_1, ..., a_N],\n",
    "  'is_impossible': bool,\n",
    "  'plausible_answers': [pa_0, ..., pa_N], # only when is_impossible is True\n",
    "}\n",
    "```\n",
    "\n",
    "```python\n",
    "pa_i or a_i = {\n",
    "  'text': str,\n",
    "  'answer_start': int,\n",
    "}\n",
    "```\n"
   ]
  },
  {
   "cell_type": "markdown",
   "metadata": {},
   "source": [
    "## `test.json`"
   ]
  },
  {
   "cell_type": "markdown",
   "metadata": {},
   "source": [
    "```python\n",
    "whole_file = {'data': [item_0, item_1, ..., item_N]}\n",
    "```\n",
    "\n",
    "```python\n",
    "item_i = {\n",
    "  'title': str,\n",
    "  'paragraphs': [p_0, p_1, ..., p_N],\n",
    "}\n",
    "```\n",
    "\n",
    "```python\n",
    "p_i = {\n",
    "  'context': str,\n",
    "  'qas': [q_0, q_1, ..., q_N],\n",
    "}\n",
    "```\n",
    "\n",
    "```python\n",
    "q_i = {\n",
    "  'question': str,\n",
    "  'id': str,\n",
    "}\n",
    "```\n",
    "\n"
   ]
  },
  {
   "cell_type": "markdown",
   "metadata": {},
   "source": [
    "所以对于每个问题来说 是不是只需要关注这个问题所在的environment，也就是title + 当前的paragraph？"
   ]
  },
  {
   "cell_type": "code",
   "execution_count": 3,
   "metadata": {},
   "outputs": [],
   "source": [
    "with open(\"test.json\") as fin:\n",
    "    j = json.load(fin)"
   ]
  },
  {
   "cell_type": "code",
   "execution_count": 4,
   "metadata": {},
   "outputs": [
    {
     "name": "stdout",
     "output_type": "stream",
     "text": [
      "dict_keys(['data'])\n",
      "<class 'list'>\n",
      "dict_keys(['title', 'paragraphs'])\n",
      "dict_keys(['context', 'qas'])\n",
      "dict_keys(['question', 'id'])\n"
     ]
    }
   ],
   "source": [
    "print(j.keys())\n",
    "print(type(j['data']))\n",
    "item0 = j['data'][0]\n",
    "print(item0.keys())\n",
    "p0 = item0['paragraphs'][0]\n",
    "print(p0.keys())\n",
    "q0 = p0['qas'][0]\n",
    "print(q0.keys())\n",
    "# 没有'answers' 和 'plausible_answers'"
   ]
  },
  {
   "cell_type": "code",
   "execution_count": null,
   "metadata": {},
   "outputs": [],
   "source": []
  },
  {
   "cell_type": "code",
   "execution_count": null,
   "metadata": {},
   "outputs": [],
   "source": []
  },
  {
   "cell_type": "code",
   "execution_count": null,
   "metadata": {},
   "outputs": [],
   "source": []
  }
 ],
 "metadata": {
  "kernelspec": {
   "display_name": "Python [conda env:Anaconda3]",
   "language": "python",
   "name": "conda-env-Anaconda3-py"
  },
  "language_info": {
   "codemirror_mode": {
    "name": "ipython",
    "version": 3
   },
   "file_extension": ".py",
   "mimetype": "text/x-python",
   "name": "python",
   "nbconvert_exporter": "python",
   "pygments_lexer": "ipython3",
   "version": "3.6.5"
  }
 },
 "nbformat": 4,
 "nbformat_minor": 2
}
